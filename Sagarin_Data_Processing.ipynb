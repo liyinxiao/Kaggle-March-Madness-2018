{
 "cells": [
  {
   "cell_type": "code",
   "execution_count": 1,
   "metadata": {
    "collapsed": true
   },
   "outputs": [],
   "source": [
    "import numpy as np\n",
    "import pandas as pd\n",
    "import matplotlib.pyplot as plt\n",
    "% matplotlib inline"
   ]
  },
  {
   "cell_type": "code",
   "execution_count": 2,
   "metadata": {},
   "outputs": [
    {
     "data": {
      "text/html": [
       "<div>\n",
       "<style>\n",
       "    .dataframe thead tr:only-child th {\n",
       "        text-align: right;\n",
       "    }\n",
       "\n",
       "    .dataframe thead th {\n",
       "        text-align: left;\n",
       "    }\n",
       "\n",
       "    .dataframe tbody tr th {\n",
       "        vertical-align: top;\n",
       "    }\n",
       "</style>\n",
       "<table border=\"1\" class=\"dataframe\">\n",
       "  <thead>\n",
       "    <tr style=\"text-align: right;\">\n",
       "      <th></th>\n",
       "      <th>College Basketball 2017-2018          Div I games only    through games of 2018 March 11 Sunday</th>\n",
       "    </tr>\n",
       "  </thead>\n",
       "  <tbody>\n",
       "    <tr>\n",
       "      <th>0</th>\n",
       "      <td>RATING    W   ...</td>\n",
       "    </tr>\n",
       "    <tr>\n",
       "      <th>1</th>\n",
       "      <td>HOME ADVANTAGE=[  3.17]       ...</td>\n",
       "    </tr>\n",
       "    <tr>\n",
       "      <th>2</th>\n",
       "      <td>1  Villanova               =  94.73   30   ...</td>\n",
       "    </tr>\n",
       "    <tr>\n",
       "      <th>3</th>\n",
       "      <td>2  Virginia                =  93.65   31   ...</td>\n",
       "    </tr>\n",
       "    <tr>\n",
       "      <th>4</th>\n",
       "      <td>3  Duke                    =  93.35   26   ...</td>\n",
       "    </tr>\n",
       "  </tbody>\n",
       "</table>\n",
       "</div>"
      ],
      "text/plain": [
       "  College Basketball 2017-2018          Div I games only    through games of 2018 March 11 Sunday                                                 \n",
       "0                                  RATING    W   ...                                                                                              \n",
       "1                  HOME ADVANTAGE=[  3.17]       ...                                                                                              \n",
       "2     1  Villanova               =  94.73   30   ...                                                                                              \n",
       "3     2  Virginia                =  93.65   31   ...                                                                                              \n",
       "4     3  Duke                    =  93.35   26   ...                                                                                              "
      ]
     },
     "execution_count": 2,
     "metadata": {},
     "output_type": "execute_result"
    }
   ],
   "source": [
    "df = pd.read_excel(\"Sagarin_Men_2018_Raw.xlsx\")\n",
    "df.head()"
   ]
  },
  {
   "cell_type": "code",
   "execution_count": 3,
   "metadata": {},
   "outputs": [],
   "source": [
    "drop_index = [13*x-1 for x in range(1,36)] + [13*x for x in range(36)] + [13*x+1 for x in range(36)]\n",
    "df = df.drop(df.index[drop_index])"
   ]
  },
  {
   "cell_type": "code",
   "execution_count": 4,
   "metadata": {
    "collapsed": true
   },
   "outputs": [],
   "source": [
    "Rating = df.iloc[:,0].str.split('=',expand=True).iloc[:,1].str.split(expand=True).iloc[:,0]"
   ]
  },
  {
   "cell_type": "code",
   "execution_count": 5,
   "metadata": {
    "collapsed": true
   },
   "outputs": [],
   "source": [
    "TeamName = df.iloc[:,0].str.split('\\s+=',expand=True).iloc[:,0].str.split('\\d+\\s+',expand=True).iloc[:,1]"
   ]
  },
  {
   "cell_type": "code",
   "execution_count": 6,
   "metadata": {
    "collapsed": true
   },
   "outputs": [],
   "source": [
    "df_processed = pd.DataFrame(\n",
    "    {'Team': TeamName,\n",
    "     'Rating': Rating,\n",
    "    })\n",
    "df_processed = df_processed.reset_index().drop('index',axis=1)"
   ]
  },
  {
   "cell_type": "markdown",
   "metadata": {},
   "source": [
    "## Data Cleaning of Team Names"
   ]
  },
  {
   "cell_type": "code",
   "execution_count": 7,
   "metadata": {
    "collapsed": true
   },
   "outputs": [],
   "source": [
    "df_Teams = pd.read_csv(\"../Data section 1 - The Basics/Teams.csv\")"
   ]
  },
  {
   "cell_type": "code",
   "execution_count": 8,
   "metadata": {
    "collapsed": true
   },
   "outputs": [],
   "source": [
    "df_processed['Team'] = df_processed['Team'].replace('(State)', 'St', regex=True) "
   ]
  },
  {
   "cell_type": "code",
   "execution_count": 9,
   "metadata": {
    "collapsed": true
   },
   "outputs": [],
   "source": [
    "df_processed['Team'] = df_processed['Team'].replace('(\\d+)', '', regex=True) "
   ]
  },
  {
   "cell_type": "code",
   "execution_count": 10,
   "metadata": {
    "collapsed": true
   },
   "outputs": [],
   "source": [
    "df_processed['Team'] = df_processed['Team'].replace('(-)', ' ', regex=True)"
   ]
  },
  {
   "cell_type": "code",
   "execution_count": 11,
   "metadata": {
    "collapsed": true
   },
   "outputs": [],
   "source": [
    "df_processed['Team'] = df_processed['Team'].replace('(\\.)', '', regex=True)"
   ]
  },
  {
   "cell_type": "code",
   "execution_count": 12,
   "metadata": {
    "collapsed": true
   },
   "outputs": [],
   "source": [
    "df_processed['Team'] = df_processed['Team'].replace('(\\xa0)', '', regex=True)"
   ]
  },
  {
   "cell_type": "code",
   "execution_count": 13,
   "metadata": {
    "collapsed": true
   },
   "outputs": [],
   "source": [
    "df_processed['Team'] = df_processed['Team'].replace('(Saint)', 'St', regex=True) "
   ]
  },
  {
   "cell_type": "code",
   "execution_count": 14,
   "metadata": {
    "collapsed": true
   },
   "outputs": [],
   "source": [
    "df_processed['Team'] = df_processed['Team'].replace('(Eastern )', 'E ', regex=True)"
   ]
  },
  {
   "cell_type": "code",
   "execution_count": 15,
   "metadata": {
    "collapsed": true
   },
   "outputs": [],
   "source": [
    "df_processed['Team'] = df_processed['Team'].replace('St Mary\\'s Cal', 'St Mary\\'s CA')\n",
    "df_processed['Team'] = df_processed['Team'].replace('Xavier Ohio', 'Xavier')\n",
    "df_processed['Team'] = df_processed['Team'].replace('Miami Florida', 'Miami FL')\n",
    "df_processed['Team'] = df_processed['Team'].replace('VCU(Va Commonwealth)', 'VA Commonwealth')\n",
    "df_processed['Team'] = df_processed['Team'].replace('Southern California', 'USC')\n",
    "df_processed['Team'] = df_processed['Team'].replace('Middle Tennessee', 'MTSU')\n",
    "df_processed['Team'] = df_processed['Team'].replace('NC Wilmington', 'UNC Wilmington')\n",
    "df_processed['Team'] = df_processed['Team'].replace('Central Florida(UCF)', 'UCF')\n",
    "df_processed['Team'] = df_processed['Team'].replace('East Tennessee St(ETS= ', 'ETSU')\n",
    "df_processed['Team'] = df_processed['Team'].replace('Texas Arlington', 'UT Arlington')\n",
    "df_processed['Team'] = df_processed['Team'].replace('NC St', 'NC State')\n",
    "df_processed['Team'] = df_processed['Team'].replace('Oakland Mich', 'Oakland')\n",
    "df_processed['Team'] = df_processed['Team'].replace('College of Charleston', 'Col Charleston')\n",
    "df_processed['Team'] = df_processed['Team'].replace('Loyola Chicago', 'Loyola-Chicago')\n",
    "df_processed['Team'] = df_processed['Team'].replace('Florida Gulf Coast', 'FL Gulf Coast')\n",
    "df_processed['Team'] = df_processed['Team'].replace('George Washington', 'G Washington')\n",
    "df_processed['Team'] = df_processed['Team'].replace('NC Asheville', 'UNC Asheville')\n",
    "df_processed['Team'] = df_processed['Team'].replace('Fort Wayne(IPFW)', 'IPFW')\n",
    "df_processed['Team'] = df_processed['Team'].replace('Kent St', 'Kent')\n",
    "df_processed['Team'] = df_processed['Team'].replace('Southern Illinois', 'S Illinois')\n",
    "df_processed['Team'] = df_processed['Team'].replace('Northern Kentucky', 'N Kentucky')\n",
    "df_processed['Team'] = df_processed['Team'].replace('Eastern Michigan', 'E MIchigan')\n",
    "df_processed['Team'] = df_processed['Team'].replace('NC Greensboro', 'UNC Greensboro')\n",
    "df_processed['Team'] = df_processed['Team'].replace('St Joseph\\'s Pa', 'St Joseph\\'s PA')\n",
    "df_processed['Team'] = df_processed['Team'].replace('Louisiana Lafayette', 'ULL')\n",
    "df_processed['Team'] = df_processed['Team'].replace('North Dakota St', 'N Dakota St')\n",
    "df_processed['Team'] = df_processed['Team'].replace('Western Michigan', 'W Michigan')\n",
    "df_processed['Team'] = df_processed['Team'].replace('Pennsylvania', 'Penn')\n",
    "df_processed['Team'] = df_processed['Team'].replace('Loyola Marymount', 'Loy Marymount')\n",
    "df_processed['Team'] = df_processed['Team'].replace('Omaha(Neb Omaha)', 'NE Omaha')\n",
    "df_processed['Team'] = df_processed['Team'].replace('Green Bay', 'WI Green Bay')\n",
    "df_processed['Team'] = df_processed['Team'].replace('Texas A&M CorpusChristi', 'TAM C. Christi')\n",
    "df_processed['Team'] = df_processed['Team'].replace('South Dakota St', 'S Dakota St')\n",
    "df_processed['Team'] = df_processed['Team'].replace('Boston U', 'Boston Univ')\n",
    "df_processed['Team'] = df_processed['Team'].replace('Georgia Southern', 'Ga Southern')\n",
    "df_processed['Team'] = df_processed['Team'].replace('Northern Illinois', 'N Illinois')\n",
    "df_processed['Team'] = df_processed['Team'].replace('Coastal Carolina', 'Coastal Car')\n",
    "df_processed['Team'] = df_processed['Team'].replace('Texas Southern', 'TX Southern')\n",
    "df_processed['Team'] = df_processed['Team'].replace('Stony Brook NY', 'Stony Brook')\n",
    "\n",
    "\n",
    "df_processed['Team'] = df_processed['Team'].replace('Mount St Mary\\'s', 'Mt St Mary\\'s')\n",
    "df_processed['Team'] = df_processed['Team'].replace('Central Michigan', 'C Michigan')\n",
    "df_processed['Team'] = df_processed['Team'].replace('Western Kentucky', 'WKU')\n",
    "df_processed['Team'] = df_processed['Team'].replace('Kansas City(UMKC)', 'Missouri KC')\n",
    "df_processed['Team'] = df_processed['Team'].replace('Stephen F Austin', 'SF Austin')\n",
    "df_processed['Team'] = df_processed['Team'].replace('Little Rock', 'Ark Little Rock')\n",
    "df_processed['Team'] = df_processed['Team'].replace('Illinois Chicago', 'IL Chicago')\n",
    "df_processed['Team'] = df_processed['Team'].replace('Houston Baptist', 'Houston Bap')\n",
    "df_processed['Team'] = df_processed['Team'].replace('Hawai\\'i', 'Hawaii')\n",
    "df_processed['Team'] = df_processed['Team'].replace('SE Missouri St(SEMO)', 'SE Missouri St')\n",
    "df_processed['Team'] = df_processed['Team'].replace('Long Island U(LIU)', 'Long Island')\n",
    "df_processed['Team'] = df_processed['Team'].replace('Long Island U', 'Long Island')\n",
    "df_processed['Team'] = df_processed['Team'].replace('North Florida(UNF)', 'North Florida')\n",
    "df_processed['Team'] = df_processed['Team'].replace('Milwaukee', 'WI Milwaukee')\n",
    "df_processed['Team'] = df_processed['Team'].replace('Louisiana Monroe', 'ULM')\n",
    "df_processed['Team'] = df_processed['Team'].replace('St Francis Pa', 'St Francis PA')\n",
    "df_processed['Team'] = df_processed['Team'].replace('Miami Ohio', 'Miami OH')\n",
    "df_processed['Team'] = df_processed['Team'].replace('Fairleigh Dickinson', 'F Dickinson')\n",
    "df_processed['Team'] = df_processed['Team'].replace('Fla International', 'Florida Intl')\n",
    "df_processed['Team'] = df_processed['Team'].replace('Northern Colorado', 'N Colorado')\n",
    "df_processed['Team'] = df_processed['Team'].replace('UMass Lowell', 'MA Lowell')\n",
    "df_processed['Team'] = df_processed['Team'].replace('Sacramento St', 'CS Sacramento')\n",
    "df_processed['Team'] = df_processed['Team'].replace('Western Illinois', 'W Illinois')\n",
    "df_processed['Team'] = df_processed['Team'].replace('American U', 'American Univ')\n",
    "df_processed['Team'] = df_processed['Team'].replace('Abilene Christian', 'Abilene Chr')\n",
    "df_processed['Team'] = df_processed['Team'].replace('Charleston Southern', 'Charleston So')\n",
    "df_processed['Team'] = df_processed['Team'].replace('UC Santa Barbara', 'Santa Barbara')\n",
    "df_processed['Team'] = df_processed['Team'].replace('Central Arkansas', 'Cent Arkansas')\n",
    "df_processed['Team'] = df_processed['Team'].replace('Southern U', 'Southern Univ')\n",
    "df_processed['Team'] = df_processed['Team'].replace('Md E Shore(UMES)', 'MD E Shore')\n",
    "df_processed['Team'] = df_processed['Team'].replace('Western Carolina', 'W Carolina')\n",
    "df_processed['Team'] = df_processed['Team'].replace('Central Connecticut St', 'Central Conn')\n",
    "df_processed['Team'] = df_processed['Team'].replace('Northwestern St', 'Northwestern LA')\n",
    "df_processed['Team'] = df_processed['Team'].replace('Iona College', 'Iona')"
   ]
  },
  {
   "cell_type": "code",
   "execution_count": 16,
   "metadata": {},
   "outputs": [
    {
     "name": "stdout",
     "output_type": "stream",
     "text": [
      "184 UTSA\n",
      "251 Army West Point\n",
      "253 Florida Atlantic\n",
      "264 NJIT(New Jersey Tech)\n",
      "287 Tennessee Martin\n",
      "293 Prairie View A&M\n",
      "302 Kennesaw St\n",
      "304 Binghamton NY\n",
      "306 Loyola Maryland\n",
      "308 Bethune Cookman\n",
      "309 Detroit Mercy\n",
      "319 SIU Edwardsville\n",
      "320 The Citadel\n",
      "322 Grambling St\n",
      "331 USC Upstate\n",
      "336 Presbyterian College\n",
      "343 SC St\n",
      "346 MVSU(Miss Valley St)\n",
      "total mismatch =  18\n"
     ]
    }
   ],
   "source": [
    "j=0\n",
    "for i in range(350):\n",
    "    if df_processed['Team'].iloc[i] not in df_Teams['TeamName'].values: \n",
    "        print(i, df_processed['Team'].iloc[i])\n",
    "        j+=1\n",
    "print('total mismatch = ', j)"
   ]
  },
  {
   "cell_type": "code",
   "execution_count": 17,
   "metadata": {
    "collapsed": true
   },
   "outputs": [],
   "source": [
    "df_processed.to_csv('Sagarin_Men_processed.csv', index=False)"
   ]
  },
  {
   "cell_type": "code",
   "execution_count": null,
   "metadata": {
    "collapsed": true
   },
   "outputs": [],
   "source": []
  }
 ],
 "metadata": {
  "kernelspec": {
   "display_name": "Python 3",
   "language": "python",
   "name": "python3"
  },
  "language_info": {
   "codemirror_mode": {
    "name": "ipython",
    "version": 3
   },
   "file_extension": ".py",
   "mimetype": "text/x-python",
   "name": "python",
   "nbconvert_exporter": "python",
   "pygments_lexer": "ipython3",
   "version": "3.6.3"
  }
 },
 "nbformat": 4,
 "nbformat_minor": 2
}
