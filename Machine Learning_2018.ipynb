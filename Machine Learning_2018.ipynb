{
 "cells": [
  {
   "cell_type": "code",
   "execution_count": 1,
   "metadata": {
    "collapsed": true
   },
   "outputs": [],
   "source": [
    "import numpy as np\n",
    "import pandas as pd\n",
    "import matplotlib.pyplot as plt\n",
    "% matplotlib inline"
   ]
  },
  {
   "cell_type": "markdown",
   "metadata": {},
   "source": [
    "## Load data"
   ]
  },
  {
   "cell_type": "code",
   "execution_count": 3,
   "metadata": {},
   "outputs": [],
   "source": [
    "df_train = pd.read_csv('Tourney_2013-2017_Train_Data.csv')"
   ]
  },
  {
   "cell_type": "code",
   "execution_count": 4,
   "metadata": {
    "collapsed": true
   },
   "outputs": [],
   "source": [
    "X_R1 = df_train[df_train['IsRound1']== 1].loc[:,['HomeAdvantage', 'TeamA_Rating', 'TeamB_Rating']]\n",
    "Y_R1 = df_train[df_train['IsRound1']== 1].loc[:,'Result']\n",
    "\n",
    "X_NonR1 = df_train[df_train['IsRound1']== 0].loc[:,['HomeAdvantage', 'TeamA_Rating', 'TeamB_Rating']]\n",
    "Y_NonR1 = df_train[df_train['IsRound1']== 0].loc[:,'Result']"
   ]
  },
  {
   "cell_type": "markdown",
   "metadata": {},
   "source": [
    "## Predictive modeling"
   ]
  },
  {
   "cell_type": "code",
   "execution_count": 6,
   "metadata": {},
   "outputs": [
    {
     "data": {
      "text/plain": [
       "0.41275689750572669"
      ]
     },
     "execution_count": 6,
     "metadata": {},
     "output_type": "execute_result"
    }
   ],
   "source": [
    "from sklearn import linear_model\n",
    "from sklearn import metrics\n",
    "LR = linear_model.LogisticRegression()\n",
    "LR = LR.fit(X_R1.values, Y_R1.values)\n",
    "Y_pred = LR.predict_proba(X_R1.values)\n",
    "metrics.log_loss(Y_R1.values, Y_pred[:,1])"
   ]
  },
  {
   "cell_type": "code",
   "execution_count": 7,
   "metadata": {},
   "outputs": [
    {
     "data": {
      "text/plain": [
       "0.47556008267445676"
      ]
     },
     "execution_count": 7,
     "metadata": {},
     "output_type": "execute_result"
    }
   ],
   "source": [
    "LR2 = linear_model.LogisticRegression()\n",
    "LR2 = LR2.fit(X_NonR1.values, Y_NonR1.values)\n",
    "Y_pred = LR2.predict_proba(X_NonR1.values)\n",
    "metrics.log_loss(Y_NonR1.values, Y_pred[:,1])"
   ]
  },
  {
   "cell_type": "code",
   "execution_count": 8,
   "metadata": {
    "collapsed": true
   },
   "outputs": [],
   "source": [
    "df_test = pd.read_csv(\"Submission_Stage2_Data.csv\")"
   ]
  },
  {
   "cell_type": "code",
   "execution_count": 9,
   "metadata": {
    "collapsed": true
   },
   "outputs": [],
   "source": [
    "X_test_R1 = df_test[df_test['IsRound1']== 1].loc[:,['HomeAdvantage', 'TeamA_Rating', 'TeamB_Rating']]\n",
    "Y_pred_R1 = LR.predict_proba(X_test_R1.values)"
   ]
  },
  {
   "cell_type": "code",
   "execution_count": 10,
   "metadata": {
    "collapsed": true
   },
   "outputs": [],
   "source": [
    "X_test_NonR1 = df_test[df_test['IsRound1']== 0].loc[:,['HomeAdvantage', 'TeamA_Rating', 'TeamB_Rating']]\n",
    "Y_pred_NonR1 = LR.predict_proba(X_test_NonR1.values)"
   ]
  },
  {
   "cell_type": "code",
   "execution_count": 11,
   "metadata": {
    "collapsed": true
   },
   "outputs": [],
   "source": [
    "df_test.loc[df_test['IsRound1']== 1, 'Pred'] = Y_pred_R1[:,1]\n",
    "df_test.loc[df_test['IsRound1']== 0, 'Pred'] = Y_pred_NonR1[:,1]"
   ]
  },
  {
   "cell_type": "code",
   "execution_count": 12,
   "metadata": {
    "collapsed": true
   },
   "outputs": [],
   "source": [
    "df_test = df_test.loc[:,['ID', 'Pred']]"
   ]
  },
  {
   "cell_type": "code",
   "execution_count": 18,
   "metadata": {
    "collapsed": true
   },
   "outputs": [],
   "source": [
    "df_test.to_csv(\"Submission_Stage2_Result.csv\",index=False)"
   ]
  }
 ],
 "metadata": {
  "kernelspec": {
   "display_name": "Python 3",
   "language": "python",
   "name": "python3"
  },
  "language_info": {
   "codemirror_mode": {
    "name": "ipython",
    "version": 3
   },
   "file_extension": ".py",
   "mimetype": "text/x-python",
   "name": "python",
   "nbconvert_exporter": "python",
   "pygments_lexer": "ipython3",
   "version": "3.6.3"
  }
 },
 "nbformat": 4,
 "nbformat_minor": 2
}
