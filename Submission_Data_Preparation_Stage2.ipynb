{
 "cells": [
  {
   "cell_type": "code",
   "execution_count": 1,
   "metadata": {
    "collapsed": true
   },
   "outputs": [],
   "source": [
    "import numpy as np\n",
    "import pandas as pd\n",
    "import matplotlib.pyplot as plt\n",
    "% matplotlib inline"
   ]
  },
  {
   "cell_type": "code",
   "execution_count": 2,
   "metadata": {
    "collapsed": true
   },
   "outputs": [],
   "source": [
    "df_test= pd.read_csv(\"SampleSubmissionStage2.csv\")\n",
    "df_Teams = pd.read_csv(\"DataFiles/Data section 1 - The Basics/Stage2_updated/Teams.csv\")\n",
    "df_seeds = pd.read_csv(\"DataFiles/Data section 1 - The Basics/Stage2_updated/NCAATourneySeeds.csv\")"
   ]
  },
  {
   "cell_type": "code",
   "execution_count": 3,
   "metadata": {
    "collapsed": true
   },
   "outputs": [],
   "source": [
    "df_test['Season'] = [int(x.split('_')[0]) for x in df_test['ID']]\n",
    "df_test['TeamA_ID'] = [int(x.split('_')[1]) for x in df_test['ID']]\n",
    "df_test['TeamB_ID'] = [int(x.split('_')[2]) for x in df_test['ID']]"
   ]
  },
  {
   "cell_type": "code",
   "execution_count": 4,
   "metadata": {
    "collapsed": true
   },
   "outputs": [],
   "source": [
    "def getSeed(team_id, year):\n",
    "    seed = df_seeds[(df_seeds['TeamID'] == team_id) & (df_seeds['Season'] == year)].values[0][1]\n",
    "    seed_region = seed[0]\n",
    "    seed_rank = int(seed[1:3])\n",
    "    return seed, seed_region, seed_rank\n",
    "# Get seed number, seed region (W, X, Y, Z) and the seed rank (1-16)"
   ]
  },
  {
   "cell_type": "code",
   "execution_count": 5,
   "metadata": {
    "collapsed": true,
    "scrolled": true
   },
   "outputs": [],
   "source": [
    "df_test['TeamASeed'] = [getSeed(x, y)[0] for x,y in zip(df_test['TeamA_ID'], df_test['Season'])]\n",
    "df_test['TeamARegion'] = [getSeed(x, y)[1] for x,y in zip(df_test['TeamA_ID'], df_test['Season'])]\n",
    "df_test['TeamARank'] = [getSeed(x, y)[2] for x,y in zip(df_test['TeamA_ID'], df_test['Season'])]\n",
    "\n",
    "df_test['TeamBSeed'] = [getSeed(x, y)[0] for x,y in zip(df_test['TeamB_ID'], df_test['Season'])]\n",
    "df_test['TeamBRegion'] = [getSeed(x, y)[1] for x,y in zip(df_test['TeamB_ID'], df_test['Season'])]\n",
    "df_test['TeamBRank'] = [getSeed(x, y)[2] for x,y in zip(df_test['TeamB_ID'], df_test['Season'])]               "
   ]
  },
  {
   "cell_type": "code",
   "execution_count": 6,
   "metadata": {
    "collapsed": true
   },
   "outputs": [],
   "source": [
    "def IsRound1(team1_region, team2_region, team1_rank, team2_rank):\n",
    "    dic = {1:16, 2:15, 3:14, 4:13, 5:12, 6:11, 7:10, 8:9, 9:8, 10:7, 11:6, 12:5, 13:4, 14:3, 15:2, 16:1}\n",
    "    if (team1_region == team2_region) & (dic[team1_rank] == team2_rank):\n",
    "        return 1\n",
    "    else: \n",
    "        return 0"
   ]
  },
  {
   "cell_type": "code",
   "execution_count": 7,
   "metadata": {
    "collapsed": true
   },
   "outputs": [],
   "source": [
    "df_test['IsRound1'] = [IsRound1(w,x,y,z) for w,x,y,z in zip(df_test['TeamARegion'].values, df_test['TeamBRegion'].values, df_test['TeamARank'].values, df_test['TeamBRank'].values)]"
   ]
  },
  {
   "cell_type": "code",
   "execution_count": 8,
   "metadata": {
    "collapsed": true
   },
   "outputs": [],
   "source": [
    "df_Rating_2018 = pd.read_csv(\"DataFiles/Sagarin/Sagarin_Men_processed.csv\")"
   ]
  },
  {
   "cell_type": "code",
   "execution_count": 9,
   "metadata": {
    "collapsed": true
   },
   "outputs": [],
   "source": [
    "def getTeamRating(team_id, year):\n",
    "    if year == 2014:\n",
    "        return df_Rating_2014[df_Rating_2014['Team'] == getTeamName(team_id)].values[0][0]\n",
    "    elif year == 2015:\n",
    "        return df_Rating_2015[df_Rating_2015['Team'] == getTeamName(team_id)].values[0][0]\n",
    "    elif year == 2016:\n",
    "        return df_Rating_2016[df_Rating_2016['Team'] == getTeamName(team_id)].values[0][0]\n",
    "    elif year == 2017:\n",
    "        return df_Rating_2017[df_Rating_2017['Team'] == getTeamName(team_id)].values[0][0]\n",
    "    elif year == 2018:\n",
    "        return df_Rating_2018[df_Rating_2018['Team'] == getTeamName(team_id)].values[0][0]\n",
    "    else:\n",
    "        return None"
   ]
  },
  {
   "cell_type": "code",
   "execution_count": 10,
   "metadata": {
    "collapsed": true
   },
   "outputs": [],
   "source": [
    "def getTeamName(team_id):\n",
    "    return df_Teams[df_Teams['TeamID'] == team_id].values[0][1]"
   ]
  },
  {
   "cell_type": "code",
   "execution_count": 11,
   "metadata": {
    "collapsed": true
   },
   "outputs": [],
   "source": [
    "df_test['TeamA_Rating']  = [getTeamRating(x,y) for x,y in zip(df_test['TeamA_ID'].values, df_test['Season'].values)]\n",
    "df_test['TeamB_Rating']  = [getTeamRating(x,y) for x,y in zip(df_test['TeamB_ID'].values, df_test['Season'].values)]"
   ]
  },
  {
   "cell_type": "code",
   "execution_count": 12,
   "metadata": {
    "collapsed": true
   },
   "outputs": [],
   "source": [
    "import random\n",
    "df_test['HomeAdvantage'] = [random.uniform(-0.1, 0.1) for x in df_test['ID']]"
   ]
  },
  {
   "cell_type": "code",
   "execution_count": 13,
   "metadata": {},
   "outputs": [
    {
     "data": {
      "text/html": [
       "<div>\n",
       "<style>\n",
       "    .dataframe thead tr:only-child th {\n",
       "        text-align: right;\n",
       "    }\n",
       "\n",
       "    .dataframe thead th {\n",
       "        text-align: left;\n",
       "    }\n",
       "\n",
       "    .dataframe tbody tr th {\n",
       "        vertical-align: top;\n",
       "    }\n",
       "</style>\n",
       "<table border=\"1\" class=\"dataframe\">\n",
       "  <thead>\n",
       "    <tr style=\"text-align: right;\">\n",
       "      <th></th>\n",
       "      <th>ID</th>\n",
       "      <th>Pred</th>\n",
       "      <th>Season</th>\n",
       "      <th>TeamA_ID</th>\n",
       "      <th>TeamB_ID</th>\n",
       "      <th>TeamASeed</th>\n",
       "      <th>TeamARegion</th>\n",
       "      <th>TeamARank</th>\n",
       "      <th>TeamBSeed</th>\n",
       "      <th>TeamBRegion</th>\n",
       "      <th>TeamBRank</th>\n",
       "      <th>IsRound1</th>\n",
       "      <th>TeamA_Rating</th>\n",
       "      <th>TeamB_Rating</th>\n",
       "      <th>HomeAdvantage</th>\n",
       "    </tr>\n",
       "  </thead>\n",
       "  <tbody>\n",
       "    <tr>\n",
       "      <th>0</th>\n",
       "      <td>2018_1104_1112</td>\n",
       "      <td>0.5</td>\n",
       "      <td>2018</td>\n",
       "      <td>1104</td>\n",
       "      <td>1112</td>\n",
       "      <td>W09</td>\n",
       "      <td>W</td>\n",
       "      <td>9</td>\n",
       "      <td>Y04</td>\n",
       "      <td>Y</td>\n",
       "      <td>4</td>\n",
       "      <td>0</td>\n",
       "      <td>82.95</td>\n",
       "      <td>87.73</td>\n",
       "      <td>0.083590</td>\n",
       "    </tr>\n",
       "    <tr>\n",
       "      <th>1</th>\n",
       "      <td>2018_1104_1113</td>\n",
       "      <td>0.5</td>\n",
       "      <td>2018</td>\n",
       "      <td>1104</td>\n",
       "      <td>1113</td>\n",
       "      <td>W09</td>\n",
       "      <td>W</td>\n",
       "      <td>9</td>\n",
       "      <td>X11a</td>\n",
       "      <td>X</td>\n",
       "      <td>11</td>\n",
       "      <td>0</td>\n",
       "      <td>82.95</td>\n",
       "      <td>82.57</td>\n",
       "      <td>-0.003954</td>\n",
       "    </tr>\n",
       "    <tr>\n",
       "      <th>2</th>\n",
       "      <td>2018_1104_1116</td>\n",
       "      <td>0.5</td>\n",
       "      <td>2018</td>\n",
       "      <td>1104</td>\n",
       "      <td>1116</td>\n",
       "      <td>W09</td>\n",
       "      <td>W</td>\n",
       "      <td>9</td>\n",
       "      <td>W07</td>\n",
       "      <td>W</td>\n",
       "      <td>7</td>\n",
       "      <td>0</td>\n",
       "      <td>82.95</td>\n",
       "      <td>84.84</td>\n",
       "      <td>0.060455</td>\n",
       "    </tr>\n",
       "    <tr>\n",
       "      <th>3</th>\n",
       "      <td>2018_1104_1120</td>\n",
       "      <td>0.5</td>\n",
       "      <td>2018</td>\n",
       "      <td>1104</td>\n",
       "      <td>1120</td>\n",
       "      <td>W09</td>\n",
       "      <td>W</td>\n",
       "      <td>9</td>\n",
       "      <td>X04</td>\n",
       "      <td>X</td>\n",
       "      <td>4</td>\n",
       "      <td>0</td>\n",
       "      <td>82.95</td>\n",
       "      <td>84.76</td>\n",
       "      <td>-0.098438</td>\n",
       "    </tr>\n",
       "    <tr>\n",
       "      <th>4</th>\n",
       "      <td>2018_1104_1137</td>\n",
       "      <td>0.5</td>\n",
       "      <td>2018</td>\n",
       "      <td>1104</td>\n",
       "      <td>1137</td>\n",
       "      <td>W09</td>\n",
       "      <td>W</td>\n",
       "      <td>9</td>\n",
       "      <td>X14</td>\n",
       "      <td>X</td>\n",
       "      <td>14</td>\n",
       "      <td>0</td>\n",
       "      <td>82.95</td>\n",
       "      <td>77.80</td>\n",
       "      <td>-0.061706</td>\n",
       "    </tr>\n",
       "  </tbody>\n",
       "</table>\n",
       "</div>"
      ],
      "text/plain": [
       "               ID  Pred  Season  TeamA_ID  TeamB_ID TeamASeed TeamARegion  \\\n",
       "0  2018_1104_1112   0.5    2018      1104      1112       W09           W   \n",
       "1  2018_1104_1113   0.5    2018      1104      1113       W09           W   \n",
       "2  2018_1104_1116   0.5    2018      1104      1116       W09           W   \n",
       "3  2018_1104_1120   0.5    2018      1104      1120       W09           W   \n",
       "4  2018_1104_1137   0.5    2018      1104      1137       W09           W   \n",
       "\n",
       "   TeamARank TeamBSeed TeamBRegion  TeamBRank  IsRound1 TeamA_Rating  \\\n",
       "0          9       Y04           Y          4         0        82.95   \n",
       "1          9      X11a           X         11         0        82.95   \n",
       "2          9       W07           W          7         0        82.95   \n",
       "3          9       X04           X          4         0        82.95   \n",
       "4          9       X14           X         14         0        82.95   \n",
       "\n",
       "  TeamB_Rating  HomeAdvantage  \n",
       "0        87.73       0.083590  \n",
       "1        82.57      -0.003954  \n",
       "2        84.84       0.060455  \n",
       "3        84.76      -0.098438  \n",
       "4        77.80      -0.061706  "
      ]
     },
     "execution_count": 13,
     "metadata": {},
     "output_type": "execute_result"
    }
   ],
   "source": [
    "df_test.head()"
   ]
  },
  {
   "cell_type": "code",
   "execution_count": 14,
   "metadata": {
    "collapsed": true
   },
   "outputs": [],
   "source": [
    "df_test.to_csv('Submission_Stage2_Data.csv',index = False)"
   ]
  },
  {
   "cell_type": "code",
   "execution_count": null,
   "metadata": {
    "collapsed": true
   },
   "outputs": [],
   "source": []
  }
 ],
 "metadata": {
  "kernelspec": {
   "display_name": "Python 3",
   "language": "python",
   "name": "python3"
  },
  "language_info": {
   "codemirror_mode": {
    "name": "ipython",
    "version": 3
   },
   "file_extension": ".py",
   "mimetype": "text/x-python",
   "name": "python",
   "nbconvert_exporter": "python",
   "pygments_lexer": "ipython3",
   "version": "3.6.3"
  }
 },
 "nbformat": 4,
 "nbformat_minor": 2
}
